{
 "cells": [
  {
   "cell_type": "code",
   "execution_count": 10,
   "metadata": {},
   "outputs": [],
   "source": [
    "import pandas as pd\n",
    "path = \"data/sample/test.csv\"\n",
    "\n",
    "df_temp = pd.read_csv(path, header=4)"
   ]
  },
  {
   "cell_type": "code",
   "execution_count": 11,
   "metadata": {},
   "outputs": [
    {
     "data": {
      "text/html": [
       "<div>\n",
       "<style scoped>\n",
       "    .dataframe tbody tr th:only-of-type {\n",
       "        vertical-align: middle;\n",
       "    }\n",
       "\n",
       "    .dataframe tbody tr th {\n",
       "        vertical-align: top;\n",
       "    }\n",
       "\n",
       "    .dataframe thead th {\n",
       "        text-align: right;\n",
       "    }\n",
       "</style>\n",
       "<table border=\"1\" class=\"dataframe\">\n",
       "  <thead>\n",
       "    <tr style=\"text-align: right;\">\n",
       "      <th></th>\n",
       "      <th>SN</th>\n",
       "    </tr>\n",
       "  </thead>\n",
       "  <tbody>\n",
       "    <tr>\n",
       "      <th>0</th>\n",
       "      <td>S224800005</td>\n",
       "    </tr>\n",
       "    <tr>\n",
       "      <th>1</th>\n",
       "      <td>S224800005</td>\n",
       "    </tr>\n",
       "    <tr>\n",
       "      <th>2</th>\n",
       "      <td>S224800005</td>\n",
       "    </tr>\n",
       "    <tr>\n",
       "      <th>3</th>\n",
       "      <td>S224800005</td>\n",
       "    </tr>\n",
       "    <tr>\n",
       "      <th>4</th>\n",
       "      <td>S224800005</td>\n",
       "    </tr>\n",
       "    <tr>\n",
       "      <th>5</th>\n",
       "      <td>S224800005</td>\n",
       "    </tr>\n",
       "  </tbody>\n",
       "</table>\n",
       "</div>"
      ],
      "text/plain": [
       "           SN\n",
       "0  S224800005\n",
       "1  S224800005\n",
       "2  S224800005\n",
       "3  S224800005\n",
       "4  S224800005\n",
       "5  S224800005"
      ]
     },
     "execution_count": 11,
     "metadata": {},
     "output_type": "execute_result"
    }
   ],
   "source": [
    "\n",
    "df_temp = df_temp[[\"SN\"]]\n",
    "df_temp"
   ]
  },
  {
   "cell_type": "code",
   "execution_count": 12,
   "metadata": {},
   "outputs": [
    {
     "data": {
      "text/html": [
       "<div>\n",
       "<style scoped>\n",
       "    .dataframe tbody tr th:only-of-type {\n",
       "        vertical-align: middle;\n",
       "    }\n",
       "\n",
       "    .dataframe tbody tr th {\n",
       "        vertical-align: top;\n",
       "    }\n",
       "\n",
       "    .dataframe thead th {\n",
       "        text-align: right;\n",
       "    }\n",
       "</style>\n",
       "<table border=\"1\" class=\"dataframe\">\n",
       "  <thead>\n",
       "    <tr style=\"text-align: right;\">\n",
       "      <th></th>\n",
       "      <th>SN</th>\n",
       "      <th>Measurement</th>\n",
       "    </tr>\n",
       "  </thead>\n",
       "  <tbody>\n",
       "    <tr>\n",
       "      <th>0</th>\n",
       "      <td>S224800005</td>\n",
       "      <td>NaN</td>\n",
       "    </tr>\n",
       "    <tr>\n",
       "      <th>1</th>\n",
       "      <td>S224800005</td>\n",
       "      <td>NaN</td>\n",
       "    </tr>\n",
       "    <tr>\n",
       "      <th>2</th>\n",
       "      <td>S224800005</td>\n",
       "      <td>NaN</td>\n",
       "    </tr>\n",
       "    <tr>\n",
       "      <th>3</th>\n",
       "      <td>S224800005</td>\n",
       "      <td>NaN</td>\n",
       "    </tr>\n",
       "    <tr>\n",
       "      <th>4</th>\n",
       "      <td>S224800005</td>\n",
       "      <td>NaN</td>\n",
       "    </tr>\n",
       "    <tr>\n",
       "      <th>5</th>\n",
       "      <td>S224800005</td>\n",
       "      <td>NaN</td>\n",
       "    </tr>\n",
       "  </tbody>\n",
       "</table>\n",
       "</div>"
      ],
      "text/plain": [
       "           SN  Measurement\n",
       "0  S224800005          NaN\n",
       "1  S224800005          NaN\n",
       "2  S224800005          NaN\n",
       "3  S224800005          NaN\n",
       "4  S224800005          NaN\n",
       "5  S224800005          NaN"
      ]
     },
     "execution_count": 12,
     "metadata": {},
     "output_type": "execute_result"
    }
   ],
   "source": [
    "df_temp[\"Measurement\"] = float(\"NaN\")\n",
    "df_temp"
   ]
  },
  {
   "cell_type": "code",
   "execution_count": 13,
   "metadata": {},
   "outputs": [
    {
     "name": "stdout",
     "output_type": "stream",
     "text": [
      "23/01/2023\n"
     ]
    }
   ],
   "source": [
    "datetime = \"23/01/2023 02:57:31 p. m.\"\n",
    "date = datetime[:10]\n",
    "print(date)"
   ]
  },
  {
   "cell_type": "code",
   "execution_count": 15,
   "metadata": {},
   "outputs": [
    {
     "data": {
      "text/html": [
       "<div>\n",
       "<style scoped>\n",
       "    .dataframe tbody tr th:only-of-type {\n",
       "        vertical-align: middle;\n",
       "    }\n",
       "\n",
       "    .dataframe tbody tr th {\n",
       "        vertical-align: top;\n",
       "    }\n",
       "\n",
       "    .dataframe thead th {\n",
       "        text-align: right;\n",
       "    }\n",
       "</style>\n",
       "<table border=\"1\" class=\"dataframe\">\n",
       "  <thead>\n",
       "    <tr style=\"text-align: right;\">\n",
       "      <th></th>\n",
       "      <th>SN</th>\n",
       "      <th>Date</th>\n",
       "      <th>CycleTime</th>\n",
       "      <th>Status</th>\n",
       "      <th>FirstFail</th>\n",
       "      <th>Measurement</th>\n",
       "      <th>Only_Date</th>\n",
       "    </tr>\n",
       "  </thead>\n",
       "  <tbody>\n",
       "    <tr>\n",
       "      <th>0</th>\n",
       "      <td>S224800005</td>\n",
       "      <td>23/01/2023 02:57:31 p. m.</td>\n",
       "      <td>198.66s</td>\n",
       "      <td>Failed</td>\n",
       "      <td>UUT Current Measurment</td>\n",
       "      <td>0.183029</td>\n",
       "      <td>23/01/2023</td>\n",
       "    </tr>\n",
       "    <tr>\n",
       "      <th>1</th>\n",
       "      <td>S224800005</td>\n",
       "      <td>23/01/2023 03:01:49 p. m.</td>\n",
       "      <td>192.42s</td>\n",
       "      <td>Failed</td>\n",
       "      <td>1.35 VDC Measurment</td>\n",
       "      <td>1.351070</td>\n",
       "      <td>23/01/2023</td>\n",
       "    </tr>\n",
       "    <tr>\n",
       "      <th>2</th>\n",
       "      <td>S224800005</td>\n",
       "      <td>23/01/2023 03:05:25 p. m.</td>\n",
       "      <td>192.60s</td>\n",
       "      <td>Passed</td>\n",
       "      <td>NaN</td>\n",
       "      <td>NaN</td>\n",
       "      <td>23/01/2023</td>\n",
       "    </tr>\n",
       "    <tr>\n",
       "      <th>3</th>\n",
       "      <td>S224800005</td>\n",
       "      <td>23/01/2023 03:18:01 p. m.</td>\n",
       "      <td>198.97s</td>\n",
       "      <td>Passed</td>\n",
       "      <td>NaN</td>\n",
       "      <td>NaN</td>\n",
       "      <td>23/01/2023</td>\n",
       "    </tr>\n",
       "    <tr>\n",
       "      <th>4</th>\n",
       "      <td>S224800005</td>\n",
       "      <td>23/01/2023 03:21:47 p. m.</td>\n",
       "      <td>198.96s</td>\n",
       "      <td>Failed</td>\n",
       "      <td>VDC w/7 VAC Power</td>\n",
       "      <td>1.564014</td>\n",
       "      <td>23/01/2023</td>\n",
       "    </tr>\n",
       "    <tr>\n",
       "      <th>5</th>\n",
       "      <td>S224800005</td>\n",
       "      <td>23/01/2023 03:26:07 p. m.</td>\n",
       "      <td>189.78s</td>\n",
       "      <td>Failed</td>\n",
       "      <td>VDC w/18 VAC Power</td>\n",
       "      <td>23.796310</td>\n",
       "      <td>23/01/2023</td>\n",
       "    </tr>\n",
       "  </tbody>\n",
       "</table>\n",
       "</div>"
      ],
      "text/plain": [
       "           SN                       Date CycleTime  Status  \\\n",
       "0  S224800005  23/01/2023 02:57:31 p. m.   198.66s  Failed   \n",
       "1  S224800005  23/01/2023 03:01:49 p. m.   192.42s  Failed   \n",
       "2  S224800005  23/01/2023 03:05:25 p. m.   192.60s  Passed   \n",
       "3  S224800005  23/01/2023 03:18:01 p. m.   198.97s  Passed   \n",
       "4  S224800005  23/01/2023 03:21:47 p. m.   198.96s  Failed   \n",
       "5  S224800005  23/01/2023 03:26:07 p. m.   189.78s  Failed   \n",
       "\n",
       "                FirstFail  Measurement   Only_Date  \n",
       "0  UUT Current Measurment     0.183029  23/01/2023  \n",
       "1     1.35 VDC Measurment     1.351070  23/01/2023  \n",
       "2                     NaN          NaN  23/01/2023  \n",
       "3                     NaN          NaN  23/01/2023  \n",
       "4       VDC w/7 VAC Power     1.564014  23/01/2023  \n",
       "5      VDC w/18 VAC Power    23.796310  23/01/2023  "
      ]
     },
     "execution_count": 15,
     "metadata": {},
     "output_type": "execute_result"
    }
   ],
   "source": [
    "# read the CSV file and store it in a DataFrame\n",
    "df = pd.read_csv(path, header=4)\n",
    "\n",
    "# add a new column \"Measurement\" and initialize it with NaN values\n",
    "df[\"Measurement\"] = float(\"NaN\")\n",
    "# loop through each row of the DataFrame\n",
    "for i, row in df.iterrows():\n",
    "    if row[\"Status\"] == \"Failed\":\n",
    "        measurement = row[\"FirstFail\"]\n",
    "        # search for the measurement in the header\n",
    "        measurement_column = df.columns.get_loc(measurement)\n",
    "        # write the value of the measurement in the new column \"Measurement\"\n",
    "        df.at[i, \"Measurement\"] = df.iloc[i, measurement_column]\n",
    "\n",
    "# select the desired columns\n",
    "df = df[[\"SN\", \"Date\", \"CycleTime\", \"Status\", \"FirstFail\", \"Measurement\"]]\n",
    "df['Only_Date'] = df['Date'].str.split(\" \").str[0]\n",
    "\n",
    "df"
   ]
  },
  {
   "cell_type": "code",
   "execution_count": 85,
   "metadata": {},
   "outputs": [
    {
     "data": {
      "text/html": [
       "<div>\n",
       "<style scoped>\n",
       "    .dataframe tbody tr th:only-of-type {\n",
       "        vertical-align: middle;\n",
       "    }\n",
       "\n",
       "    .dataframe tbody tr th {\n",
       "        vertical-align: top;\n",
       "    }\n",
       "\n",
       "    .dataframe thead th {\n",
       "        text-align: right;\n",
       "    }\n",
       "</style>\n",
       "<table border=\"1\" class=\"dataframe\">\n",
       "  <thead>\n",
       "    <tr style=\"text-align: right;\">\n",
       "      <th></th>\n",
       "      <th>SN</th>\n",
       "      <th>Date</th>\n",
       "      <th>CycleTime</th>\n",
       "      <th>Status</th>\n",
       "      <th>FirstFail</th>\n",
       "      <th>Measurement</th>\n",
       "    </tr>\n",
       "  </thead>\n",
       "  <tbody>\n",
       "  </tbody>\n",
       "</table>\n",
       "</div>"
      ],
      "text/plain": [
       "Empty DataFrame\n",
       "Columns: [SN, Date, CycleTime, Status, FirstFail, Measurement]\n",
       "Index: []"
      ]
     },
     "execution_count": 85,
     "metadata": {},
     "output_type": "execute_result"
    }
   ],
   "source": [
    "header_df = {'SN': [], 'Date': [], 'CycleTime': [], 'Status': [], 'FirstFail': [], 'Measurement': []}\n",
    "main_df = pd.DataFrame(header_df)\n",
    "\n",
    "# save the new DataFrame to a new CSV file\n",
    "main_df.to_csv(\"data/sample/output.csv\", index=False)\n",
    "main_df"
   ]
  }
 ],
 "metadata": {
  "kernelspec": {
   "display_name": "Python 3",
   "language": "python",
   "name": "python3"
  },
  "language_info": {
   "codemirror_mode": {
    "name": "ipython",
    "version": 3
   },
   "file_extension": ".py",
   "mimetype": "text/x-python",
   "name": "python",
   "nbconvert_exporter": "python",
   "pygments_lexer": "ipython3",
   "version": "3.10.6"
  },
  "orig_nbformat": 4,
  "vscode": {
   "interpreter": {
    "hash": "0046c378d3fc44ab34fc18d3dada59e41745fcaef352e3ab2cf782b5360cf018"
   }
  }
 },
 "nbformat": 4,
 "nbformat_minor": 2
}
