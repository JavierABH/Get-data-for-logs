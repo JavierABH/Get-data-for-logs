{
 "cells": [
  {
   "cell_type": "code",
   "execution_count": 119,
   "metadata": {},
   "outputs": [],
   "source": [
    "import pandas as pd\n",
    "import csv\n",
    "import os\n",
    "import glob\n",
    "\n",
    "path = \"data/sample/test.csv\""
   ]
  },
  {
   "cell_type": "code",
   "execution_count": 296,
   "metadata": {},
   "outputs": [],
   "source": [
    "def main():\n",
    "    logs_path = \"data\\Results\"\n",
    "    # Busca los archivos del directorio\n",
    "    for path_file in glob.iglob(f'{logs_path}/**', recursive = True):\n",
    "        # Checa si es un archivo\n",
    "        if os.path.isfile(path_file) and \"GRR\" not in path_file:\n",
    "            # Abrir el archivo csv para lectura\n",
    "            with open(path_file, 'r') as logfile:\n",
    "                reader = csv.reader(logfile)\n",
    "                # Leer todas las filas en una lista\n",
    "                rows = [row for row in reader]\n",
    "\n",
    "                # Buscar la fila con la palabra \"SN\" en la fila 4 o 5\n",
    "                for i, row in enumerate(rows):\n",
    "                    if i in [3, 4] and \"SN\" in row:\n",
    "                        # Comprobar si la fila ya tiene 150 \",\"\n",
    "                        if len(row) < (len(rows[0]) + 150):\n",
    "                            # Agregar 150 \",\" a la fila encontrada\n",
    "                            row += [\"\"] * 150\n",
    "                        break\n",
    "\n",
    "            # Abrir el archivo csv para escritura\n",
    "            with open(path_file, 'w', newline='') as logfile:\n",
    "                writer = csv.writer(logfile)\n",
    "                # Escribir todas las filas en el archivo csv\n",
    "                writer.writerows(rows)\n",
    "                print(path_file)"
   ]
  },
  {
   "cell_type": "code",
   "execution_count": 126,
   "metadata": {},
   "outputs": [
    {
     "name": "stdout",
     "output_type": "stream",
     "text": [
      "data/sample/test.csv\n"
     ]
    }
   ],
   "source": [
    "path_file = path\n",
    "\n",
    "with open(path_file, 'r') as logfile:\n",
    "    reader = csv.reader(logfile)\n",
    "    # Leer todas las filas en una lista\n",
    "    rows = [row for row in reader]\n",
    "    csv_header1 = rows[0][6:]\n",
    "\n",
    "# Buscar la fila con la palabra \"SN\" en la fila 4 o 5\n",
    "    for i, row in enumerate(rows):\n",
    "        if i in [3, 4] and \"SN\" in row:\n",
    "            # Copia el nombre de las pruebas en la fila para el dataframe\n",
    "            row += csv_header1\n",
    "            break\n",
    "\n",
    "# Abrir el archivo csv para escritura\n",
    "with open(path_file, 'w', newline='') as logfile:\n",
    "    writer = csv.writer(logfile)\n",
    "    # Escribir todas las filas en el archivo csv\n",
    "    writer.writerows(rows)\n",
    "    print(path_file)\n",
    "    "
   ]
  },
  {
   "cell_type": "code",
   "execution_count": 150,
   "metadata": {},
   "outputs": [
    {
     "name": "stdout",
     "output_type": "stream",
     "text": [
      "1\n"
     ]
    },
    {
     "data": {
      "text/html": [
       "<div>\n",
       "<style scoped>\n",
       "    .dataframe tbody tr th:only-of-type {\n",
       "        vertical-align: middle;\n",
       "    }\n",
       "\n",
       "    .dataframe tbody tr th {\n",
       "        vertical-align: top;\n",
       "    }\n",
       "\n",
       "    .dataframe thead th {\n",
       "        text-align: right;\n",
       "    }\n",
       "</style>\n",
       "<table border=\"1\" class=\"dataframe\">\n",
       "  <thead>\n",
       "    <tr style=\"text-align: right;\">\n",
       "      <th></th>\n",
       "      <th>SN</th>\n",
       "      <th>Date</th>\n",
       "      <th>CycleTime</th>\n",
       "      <th>Status</th>\n",
       "      <th>FirstFail</th>\n",
       "      <th>Measurement</th>\n",
       "    </tr>\n",
       "  </thead>\n",
       "  <tbody>\n",
       "    <tr>\n",
       "      <th>0</th>\n",
       "      <td>S224800005</td>\n",
       "      <td>23/01/2023 02:57:31 p. m.</td>\n",
       "      <td>198.66s</td>\n",
       "      <td>Failed</td>\n",
       "      <td>UUT Current Measurment</td>\n",
       "      <td>0.183029</td>\n",
       "    </tr>\n",
       "    <tr>\n",
       "      <th>1</th>\n",
       "      <td>S224800005</td>\n",
       "      <td>23/01/2023 03:01:49 p. m.</td>\n",
       "      <td>192.42s</td>\n",
       "      <td>Failed</td>\n",
       "      <td>1.35 VDC Measurment</td>\n",
       "      <td>1.351070</td>\n",
       "    </tr>\n",
       "    <tr>\n",
       "      <th>2</th>\n",
       "      <td>S224800005</td>\n",
       "      <td>23/01/2023 03:05:25 p. m.</td>\n",
       "      <td>192.60s</td>\n",
       "      <td>Passed</td>\n",
       "      <td>NaN</td>\n",
       "      <td>NaN</td>\n",
       "    </tr>\n",
       "    <tr>\n",
       "      <th>3</th>\n",
       "      <td>S224800005</td>\n",
       "      <td>23/01/2023 03:18:01 p. m.</td>\n",
       "      <td>198.97s</td>\n",
       "      <td>Passed</td>\n",
       "      <td>NaN</td>\n",
       "      <td>NaN</td>\n",
       "    </tr>\n",
       "    <tr>\n",
       "      <th>4</th>\n",
       "      <td>S224800005</td>\n",
       "      <td>23/01/2023 03:21:47 p. m.</td>\n",
       "      <td>198.96s</td>\n",
       "      <td>Failed</td>\n",
       "      <td>VDC w/7 VAC Power</td>\n",
       "      <td>1.564014</td>\n",
       "    </tr>\n",
       "    <tr>\n",
       "      <th>5</th>\n",
       "      <td>S224800005</td>\n",
       "      <td>23/01/2023 03:26:07 p. m.</td>\n",
       "      <td>189.78s</td>\n",
       "      <td>Failed</td>\n",
       "      <td>VDC w/18 VAC Power</td>\n",
       "      <td>23.796310</td>\n",
       "    </tr>\n",
       "  </tbody>\n",
       "</table>\n",
       "</div>"
      ],
      "text/plain": [
       "           SN                       Date CycleTime  Status  \\\n",
       "0  S224800005  23/01/2023 02:57:31 p. m.   198.66s  Failed   \n",
       "1  S224800005  23/01/2023 03:01:49 p. m.   192.42s  Failed   \n",
       "2  S224800005  23/01/2023 03:05:25 p. m.   192.60s  Passed   \n",
       "3  S224800005  23/01/2023 03:18:01 p. m.   198.97s  Passed   \n",
       "4  S224800005  23/01/2023 03:21:47 p. m.   198.96s  Failed   \n",
       "5  S224800005  23/01/2023 03:26:07 p. m.   189.78s  Failed   \n",
       "\n",
       "                FirstFail  Measurement  \n",
       "0  UUT Current Measurment     0.183029  \n",
       "1     1.35 VDC Measurment     1.351070  \n",
       "2                     NaN          NaN  \n",
       "3                     NaN          NaN  \n",
       "4       VDC w/7 VAC Power     1.564014  \n",
       "5      VDC w/18 VAC Power    23.796310  "
      ]
     },
     "execution_count": 150,
     "metadata": {},
     "output_type": "execute_result"
    }
   ],
   "source": [
    "# read the CSV file and store it in a DataFrame\n",
    "df = pd.read_csv(path, header= 4)\n",
    "\n",
    "# add a new column \"Measurement\" and initialize it with NaN values\n",
    "df[\"Measurement\"] = float(\"NaN\")\n",
    "# loop through each row of the DataFrame\n",
    "for i, row in df.iterrows():\n",
    "    if row[\"Status\"] == \"Failed\":\n",
    "        measurement = row[\"FirstFail\"]\n",
    "        # search for the measurement in the header\n",
    "        measurement_column = df.columns.get_loc(measurement)\n",
    "        # write the value of the measurement in the new column \"Measurement\"\n",
    "        df.at[i, \"Measurement\"] = df.iloc[i, measurement_column]\n",
    "\n",
    "# select the desired columns and store them in a new DataFrame\n",
    "df = df[[\"SN\", \"Date\", \"CycleTime\", \"Status\", \"FirstFail\", \"Measurement\"]]\n",
    "\n",
    "# df.drop(df.index[1], inplace = True)\n",
    "\n",
    "print(df.index[1])\n",
    "df"
   ]
  },
  {
   "cell_type": "code",
   "execution_count": 138,
   "metadata": {},
   "outputs": [
    {
     "data": {
      "text/html": [
       "<div>\n",
       "<style scoped>\n",
       "    .dataframe tbody tr th:only-of-type {\n",
       "        vertical-align: middle;\n",
       "    }\n",
       "\n",
       "    .dataframe tbody tr th {\n",
       "        vertical-align: top;\n",
       "    }\n",
       "\n",
       "    .dataframe thead th {\n",
       "        text-align: right;\n",
       "    }\n",
       "</style>\n",
       "<table border=\"1\" class=\"dataframe\">\n",
       "  <thead>\n",
       "    <tr style=\"text-align: right;\">\n",
       "      <th></th>\n",
       "      <th>SN</th>\n",
       "      <th>Date</th>\n",
       "      <th>CycleTime</th>\n",
       "      <th>Status</th>\n",
       "      <th>FirstFail</th>\n",
       "      <th>Measurement</th>\n",
       "    </tr>\n",
       "  </thead>\n",
       "  <tbody>\n",
       "  </tbody>\n",
       "</table>\n",
       "</div>"
      ],
      "text/plain": [
       "Empty DataFrame\n",
       "Columns: [SN, Date, CycleTime, Status, FirstFail, Measurement]\n",
       "Index: []"
      ]
     },
     "execution_count": 138,
     "metadata": {},
     "output_type": "execute_result"
    }
   ],
   "source": [
    "header_df = {'SN': [], 'Date': [], 'CycleTime': [], 'Status': [], 'FirstFail': [], 'Measurement': []}\n",
    "new_df = pd.DataFrame(header_df)\n",
    "\n",
    "# save the new DataFrame to a new CSV file\n",
    "new_df.to_csv(\"data/sample/output.csv\", index=False)\n",
    "new_df"
   ]
  }
 ],
 "metadata": {
  "kernelspec": {
   "display_name": "Python 3",
   "language": "python",
   "name": "python3"
  },
  "language_info": {
   "codemirror_mode": {
    "name": "ipython",
    "version": 3
   },
   "file_extension": ".py",
   "mimetype": "text/x-python",
   "name": "python",
   "nbconvert_exporter": "python",
   "pygments_lexer": "ipython3",
   "version": "3.10.6"
  },
  "orig_nbformat": 4,
  "vscode": {
   "interpreter": {
    "hash": "0046c378d3fc44ab34fc18d3dada59e41745fcaef352e3ab2cf782b5360cf018"
   }
  }
 },
 "nbformat": 4,
 "nbformat_minor": 2
}
